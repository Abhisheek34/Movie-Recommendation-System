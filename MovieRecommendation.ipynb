{
 "cells": [
  {
   "cell_type": "code",
   "execution_count": 1,
   "id": "734e9661-0325-4557-8fd4-5b1b534ac329",
   "metadata": {},
   "outputs": [],
   "source": [
    "import numpy as np\n",
    "import pandas as pd\n",
    "import seaborn as sns\n",
    "import matplotlib.pyplot as plt"
   ]
  },
  {
   "cell_type": "code",
   "execution_count": 2,
   "id": "9e674a81-831e-47ae-a405-21c86ea7ac8a",
   "metadata": {},
   "outputs": [],
   "source": [
    "df = pd.read_csv('movies.csv')"
   ]
  },
  {
   "cell_type": "code",
   "execution_count": 3,
   "id": "8ec55410-e189-455b-8537-8041d2bddcf7",
   "metadata": {},
   "outputs": [
    {
     "data": {
      "text/html": [
       "<div>\n",
       "<style scoped>\n",
       "    .dataframe tbody tr th:only-of-type {\n",
       "        vertical-align: middle;\n",
       "    }\n",
       "\n",
       "    .dataframe tbody tr th {\n",
       "        vertical-align: top;\n",
       "    }\n",
       "\n",
       "    .dataframe thead th {\n",
       "        text-align: right;\n",
       "    }\n",
       "</style>\n",
       "<table border=\"1\" class=\"dataframe\">\n",
       "  <thead>\n",
       "    <tr style=\"text-align: right;\">\n",
       "      <th></th>\n",
       "      <th>index</th>\n",
       "      <th>genres</th>\n",
       "      <th>title</th>\n",
       "    </tr>\n",
       "  </thead>\n",
       "  <tbody>\n",
       "    <tr>\n",
       "      <th>0</th>\n",
       "      <td>0</td>\n",
       "      <td>Action Adventure Fantasy Science Fiction</td>\n",
       "      <td>Avatar</td>\n",
       "    </tr>\n",
       "    <tr>\n",
       "      <th>1</th>\n",
       "      <td>1</td>\n",
       "      <td>Adventure Fantasy Action</td>\n",
       "      <td>Pirates of the Caribbean: At World's End</td>\n",
       "    </tr>\n",
       "    <tr>\n",
       "      <th>2</th>\n",
       "      <td>2</td>\n",
       "      <td>Action Adventure Crime</td>\n",
       "      <td>Spectre</td>\n",
       "    </tr>\n",
       "    <tr>\n",
       "      <th>3</th>\n",
       "      <td>3</td>\n",
       "      <td>Action Crime Drama Thriller</td>\n",
       "      <td>The Dark Knight Rises</td>\n",
       "    </tr>\n",
       "    <tr>\n",
       "      <th>4</th>\n",
       "      <td>4</td>\n",
       "      <td>Action Adventure Science Fiction</td>\n",
       "      <td>John Carter</td>\n",
       "    </tr>\n",
       "    <tr>\n",
       "      <th>5</th>\n",
       "      <td>5</td>\n",
       "      <td>Fantasy Action Adventure</td>\n",
       "      <td>Spider-Man 3</td>\n",
       "    </tr>\n",
       "    <tr>\n",
       "      <th>6</th>\n",
       "      <td>6</td>\n",
       "      <td>Animation Family</td>\n",
       "      <td>Tangled</td>\n",
       "    </tr>\n",
       "    <tr>\n",
       "      <th>7</th>\n",
       "      <td>7</td>\n",
       "      <td>Action Adventure Science Fiction</td>\n",
       "      <td>Avengers: Age of Ultron</td>\n",
       "    </tr>\n",
       "    <tr>\n",
       "      <th>8</th>\n",
       "      <td>8</td>\n",
       "      <td>Adventure Fantasy Family</td>\n",
       "      <td>Harry Potter and the Half-Blood Prince</td>\n",
       "    </tr>\n",
       "    <tr>\n",
       "      <th>9</th>\n",
       "      <td>9</td>\n",
       "      <td>Action Adventure Fantasy</td>\n",
       "      <td>Batman v Superman: Dawn of Justice</td>\n",
       "    </tr>\n",
       "  </tbody>\n",
       "</table>\n",
       "</div>"
      ],
      "text/plain": [
       "   index                                    genres  \\\n",
       "0      0  Action Adventure Fantasy Science Fiction   \n",
       "1      1                  Adventure Fantasy Action   \n",
       "2      2                    Action Adventure Crime   \n",
       "3      3               Action Crime Drama Thriller   \n",
       "4      4          Action Adventure Science Fiction   \n",
       "5      5                  Fantasy Action Adventure   \n",
       "6      6                          Animation Family   \n",
       "7      7          Action Adventure Science Fiction   \n",
       "8      8                  Adventure Fantasy Family   \n",
       "9      9                  Action Adventure Fantasy   \n",
       "\n",
       "                                      title  \n",
       "0                                    Avatar  \n",
       "1  Pirates of the Caribbean: At World's End  \n",
       "2                                   Spectre  \n",
       "3                     The Dark Knight Rises  \n",
       "4                               John Carter  \n",
       "5                              Spider-Man 3  \n",
       "6                                   Tangled  \n",
       "7                   Avengers: Age of Ultron  \n",
       "8    Harry Potter and the Half-Blood Prince  \n",
       "9        Batman v Superman: Dawn of Justice  "
      ]
     },
     "execution_count": 3,
     "metadata": {},
     "output_type": "execute_result"
    }
   ],
   "source": [
    "df.head(10)"
   ]
  },
  {
   "cell_type": "code",
   "execution_count": 4,
   "id": "78b65287-d503-4c27-ac08-8c66cbf87296",
   "metadata": {},
   "outputs": [
    {
     "data": {
      "text/plain": [
       "(4693, 3)"
      ]
     },
     "execution_count": 4,
     "metadata": {},
     "output_type": "execute_result"
    }
   ],
   "source": [
    "df.shape"
   ]
  },
  {
   "cell_type": "code",
   "execution_count": 5,
   "id": "bdf743cb-8d13-4e9c-b0e8-6166795a47e7",
   "metadata": {},
   "outputs": [
    {
     "name": "stdout",
     "output_type": "stream",
     "text": [
      "<class 'pandas.core.frame.DataFrame'>\n",
      "RangeIndex: 4693 entries, 0 to 4692\n",
      "Data columns (total 3 columns):\n",
      " #   Column  Non-Null Count  Dtype \n",
      "---  ------  --------------  ----- \n",
      " 0   index   4693 non-null   int64 \n",
      " 1   genres  4666 non-null   object\n",
      " 2   title   4693 non-null   object\n",
      "dtypes: int64(1), object(2)\n",
      "memory usage: 110.1+ KB\n"
     ]
    }
   ],
   "source": [
    "df.info()"
   ]
  },
  {
   "cell_type": "code",
   "execution_count": 6,
   "id": "a2fe6862-fa79-43e9-84dc-2cd36cadbf89",
   "metadata": {},
   "outputs": [
    {
     "data": {
      "text/plain": [
       "index      0\n",
       "genres    27\n",
       "title      0\n",
       "dtype: int64"
      ]
     },
     "execution_count": 6,
     "metadata": {},
     "output_type": "execute_result"
    }
   ],
   "source": [
    "df.isnull().sum()"
   ]
  },
  {
   "cell_type": "code",
   "execution_count": 7,
   "id": "6f856a85-6646-4a59-8e86-79e1cfbab80b",
   "metadata": {},
   "outputs": [],
   "source": [
    "df['genres'] = df['genres'].fillna('')"
   ]
  },
  {
   "cell_type": "code",
   "execution_count": 8,
   "id": "2dd79951-4a7f-43f8-93c6-4849c1fa14f3",
   "metadata": {},
   "outputs": [
    {
     "data": {
      "text/plain": [
       "index     0\n",
       "genres    0\n",
       "title     0\n",
       "dtype: int64"
      ]
     },
     "execution_count": 8,
     "metadata": {},
     "output_type": "execute_result"
    }
   ],
   "source": [
    "df.isnull().sum()"
   ]
  },
  {
   "cell_type": "code",
   "execution_count": 9,
   "id": "67334da8-496d-4fd5-9573-79962ad791af",
   "metadata": {},
   "outputs": [],
   "source": [
    "## text to feature vector\n",
    "\n",
    "from sklearn.feature_extraction.text import TfidfVectorizer"
   ]
  },
  {
   "cell_type": "code",
   "execution_count": 38,
   "id": "d5b8065d-7969-49b9-95cc-cc88ff8d24e1",
   "metadata": {},
   "outputs": [],
   "source": [
    "vectorizer = TfidfVectorizer()"
   ]
  },
  {
   "cell_type": "code",
   "execution_count": 39,
   "id": "5448d36a-9697-4e64-b401-18f436e9b03b",
   "metadata": {},
   "outputs": [
    {
     "name": "stdout",
     "output_type": "stream",
     "text": [
      "<Compressed Sparse Row sparse matrix of dtype 'float64'\n",
      "\twith 12343 stored elements and shape (4693, 22)>\n",
      "  Coords\tValues\n",
      "  (0, 0)\t0.3592031586687302\n",
      "  (0, 1)\t0.4130006715194316\n",
      "  (0, 8)\t0.5071491125814311\n",
      "  (0, 17)\t0.4707458516730511\n",
      "  (0, 9)\t0.4707458516730511\n",
      "  (1, 0)\t0.48138419365761775\n",
      "  (1, 1)\t0.5534806430329519\n",
      "  (1, 8)\t0.6796531732320795\n",
      "  (2, 0)\t0.5156631691245587\n",
      "  (2, 1)\t0.5928935478061559\n",
      "  (2, 4)\t0.6185214118995771\n",
      "  (3, 0)\t0.5089033268563234\n",
      "  (3, 4)\t0.6104131981773027\n",
      "  (3, 6)\t0.36295309828694733\n",
      "  (3, 18)\t0.48649581688790333\n",
      "  (4, 0)\t0.41677749925163493\n",
      "  (4, 1)\t0.4791978659181514\n",
      "  (4, 17)\t0.546198645831827\n",
      "  (4, 9)\t0.546198645831827\n",
      "  (5, 0)\t0.48138419365761775\n",
      "  (5, 1)\t0.5534806430329519\n",
      "  (5, 8)\t0.6796531732320795\n",
      "  (6, 2)\t0.7810998132540361\n",
      "  (6, 7)\t0.6244061832929827\n",
      "  (7, 0)\t0.41677749925163493\n",
      "  :\t:\n",
      "  (4681, 12)\t0.6716723210138477\n",
      "  (4682, 6)\t1.0\n",
      "  (4683, 12)\t1.0\n",
      "  (4684, 6)\t1.0\n",
      "  (4685, 18)\t0.5232506676246239\n",
      "  (4685, 3)\t0.4518041679821976\n",
      "  (4685, 12)\t0.7225522352219937\n",
      "  (4686, 6)\t1.0\n",
      "  (4687, 17)\t0.5946200977977993\n",
      "  (4687, 9)\t0.5946200977977993\n",
      "  (4687, 6)\t0.32359995119961343\n",
      "  (4687, 18)\t0.4337475650346395\n",
      "  (4688, 18)\t0.36320563254114735\n",
      "  (4688, 10)\t0.9317090041908928\n",
      "  (4689, 0)\t0.5461464693828377\n",
      "  (4689, 4)\t0.6550851516506998\n",
      "  (4689, 18)\t0.5220991075145031\n",
      "  (4690, 3)\t0.6014325629422163\n",
      "  (4690, 16)\t0.798923570958297\n",
      "  (4691, 6)\t0.15925893678240205\n",
      "  (4691, 3)\t0.18432016744637075\n",
      "  (4691, 16)\t0.24484495095426656\n",
      "  (4691, 19)\t0.6635938580636818\n",
      "  (4691, 13)\t0.6635938580636818\n",
      "  (4692, 5)\t1.0\n"
     ]
    }
   ],
   "source": [
    "feature_vector = vectorizer.fit_transform(df['genres'])\n",
    "print(feature_vector)"
   ]
  },
  {
   "cell_type": "code",
   "execution_count": 40,
   "id": "a4101757-ce05-4f2b-8e22-60766828f3e5",
   "metadata": {},
   "outputs": [
    {
     "data": {
      "text/plain": [
       "array(['action', 'adventure', 'animation', 'comedy', 'crime',\n",
       "       'documentary', 'drama', 'family', 'fantasy', 'fiction', 'foreign',\n",
       "       'history', 'horror', 'movie', 'music', 'mystery', 'romance',\n",
       "       'science', 'thriller', 'tv', 'war', 'western'], dtype=object)"
      ]
     },
     "execution_count": 40,
     "metadata": {},
     "output_type": "execute_result"
    }
   ],
   "source": [
    "vectorizor.get_feature_names_out()"
   ]
  },
  {
   "cell_type": "code",
   "execution_count": 41,
   "id": "abd2b7ee-41ba-472a-82c1-0ba6b6a01803",
   "metadata": {},
   "outputs": [
    {
     "data": {
      "text/plain": [
       "(4693, 22)"
      ]
     },
     "execution_count": 41,
     "metadata": {},
     "output_type": "execute_result"
    }
   ],
   "source": [
    "feature_vector.shape"
   ]
  },
  {
   "cell_type": "markdown",
   "id": "5d2d7868-f443-411d-a2c5-105e71069460",
   "metadata": {},
   "source": [
    "## Cosine Similarity"
   ]
  },
  {
   "cell_type": "code",
   "execution_count": 42,
   "id": "10d8fce8-7180-4132-ada9-335490489936",
   "metadata": {},
   "outputs": [
    {
     "name": "stdout",
     "output_type": "stream",
     "text": [
      "[[1.         0.7461881  0.43009327 ... 0.         0.         0.        ]\n",
      " [0.7461881  1.         0.5763872  ... 0.         0.         0.        ]\n",
      " [0.43009327 0.5763872  1.         ... 0.         0.         0.        ]\n",
      " ...\n",
      " [0.         0.         0.         ... 1.         0.30646855 0.        ]\n",
      " [0.         0.         0.         ... 0.30646855 1.         0.        ]\n",
      " [0.         0.         0.         ... 0.         0.         1.        ]]\n"
     ]
    }
   ],
   "source": [
    "## getting  the similar scores using cosine similirity\n",
    "\n",
    "from sklearn.metrics.pairwise import cosine_similarity\n",
    "similarity = cosine_similarity(feature_vector)\n",
    "print(similarity)"
   ]
  },
  {
   "cell_type": "code",
   "execution_count": 43,
   "id": "a5f01445-6425-4fae-b7f5-cb507691d87a",
   "metadata": {},
   "outputs": [
    {
     "data": {
      "text/plain": [
       "(4693, 4693)"
      ]
     },
     "execution_count": 43,
     "metadata": {},
     "output_type": "execute_result"
    }
   ],
   "source": [
    "similarity.shape"
   ]
  },
  {
   "cell_type": "markdown",
   "id": "d44293c5-a33e-43bb-99ee-c7bb8bdec567",
   "metadata": {},
   "source": [
    "## creating a list of all movie given in the datset"
   ]
  },
  {
   "cell_type": "code",
   "execution_count": 44,
   "id": "f091efd9-d45e-4c7e-a7f3-5f3ba371baba",
   "metadata": {},
   "outputs": [],
   "source": [
    "list_titles = df['title'].tolist()"
   ]
  },
  {
   "cell_type": "code",
   "execution_count": 45,
   "id": "c16b9ba4-0ef7-45b0-beee-ac48664e9b4b",
   "metadata": {},
   "outputs": [],
   "source": [
    "#print(list_titles)"
   ]
  },
  {
   "cell_type": "code",
   "execution_count": 46,
   "id": "4a0b6b2f-5b06-4de6-a018-226d4e8c9351",
   "metadata": {},
   "outputs": [],
   "source": [
    "su =0\n",
    "for l in list_titles:\n",
    "    su= su+1\n"
   ]
  },
  {
   "cell_type": "code",
   "execution_count": 47,
   "id": "f11ff1e9-9654-4c05-83fc-9de4ae9e3236",
   "metadata": {},
   "outputs": [
    {
     "data": {
      "text/plain": [
       "4693"
      ]
     },
     "execution_count": 47,
     "metadata": {},
     "output_type": "execute_result"
    }
   ],
   "source": [
    "su"
   ]
  },
  {
   "cell_type": "code",
   "execution_count": null,
   "id": "b56aeacb-886e-47a0-9e83-efa459efe922",
   "metadata": {},
   "outputs": [],
   "source": []
  },
  {
   "cell_type": "markdown",
   "id": "9cd412ae-2a12-4398-950d-7dd0d23f1ad4",
   "metadata": {},
   "source": [
    "## Getting movie name from user"
   ]
  },
  {
   "cell_type": "code",
   "execution_count": 48,
   "id": "834c00ae-2610-4c37-b3c6-caf57ad8491d",
   "metadata": {},
   "outputs": [
    {
     "name": "stdin",
     "output_type": "stream",
     "text": [
      "Enter your favourite movie name :  avatar\n"
     ]
    }
   ],
   "source": [
    "movie_name = input('Enter your favourite movie name : ')"
   ]
  },
  {
   "cell_type": "code",
   "execution_count": 49,
   "id": "a5c333a0-c42f-4dd2-b907-84ade9bee061",
   "metadata": {},
   "outputs": [
    {
     "data": {
      "text/plain": [
       "'avatar'"
      ]
     },
     "execution_count": 49,
     "metadata": {},
     "output_type": "execute_result"
    }
   ],
   "source": [
    "movie_name"
   ]
  },
  {
   "cell_type": "code",
   "execution_count": 50,
   "id": "ac779510-a326-46ab-80b0-dc0adc164075",
   "metadata": {},
   "outputs": [],
   "source": [
    "# finding close match\n",
    "\n",
    "import difflib\n"
   ]
  },
  {
   "cell_type": "code",
   "execution_count": 51,
   "id": "547ba55f-5384-4ef4-87c0-b7f684f31df0",
   "metadata": {},
   "outputs": [
    {
     "name": "stdout",
     "output_type": "stream",
     "text": [
      "['Avatar']\n"
     ]
    }
   ],
   "source": [
    "find_close_match = difflib.get_close_matches(movie_name, list_titles)\n",
    "\n",
    "print(find_close_match)"
   ]
  },
  {
   "cell_type": "code",
   "execution_count": 52,
   "id": "b3559231-8af5-4f44-9c8b-9336f26e98f3",
   "metadata": {},
   "outputs": [
    {
     "name": "stdout",
     "output_type": "stream",
     "text": [
      "Avatar\n"
     ]
    }
   ],
   "source": [
    "close_match = find_close_match[0]\n",
    "print(close_match)"
   ]
  },
  {
   "cell_type": "code",
   "execution_count": 53,
   "id": "c232711e-30d0-4858-b4f5-5b164a875ebe",
   "metadata": {},
   "outputs": [
    {
     "name": "stdout",
     "output_type": "stream",
     "text": [
      "0\n"
     ]
    }
   ],
   "source": [
    "# finding the index of the movie with title\n",
    "\n",
    "movie_index = df[df.title == close_match]['index'].values[0]\n",
    "print(movie_index)"
   ]
  },
  {
   "cell_type": "markdown",
   "id": "9158dfe6-62ec-43c4-b3ed-29876e871294",
   "metadata": {},
   "source": [
    "## getting list of similar movies"
   ]
  },
  {
   "cell_type": "code",
   "execution_count": 54,
   "id": "06939fcd-f8bd-48bd-8e76-047b5676a9c7",
   "metadata": {},
   "outputs": [],
   "source": [
    "similarity_score = list(enumerate(similarity[movie_index]))\n",
    "#print(similarity_score)"
   ]
  },
  {
   "cell_type": "code",
   "execution_count": 55,
   "id": "70756729-a7fa-4928-95c5-72cdf3413bf1",
   "metadata": {},
   "outputs": [
    {
     "data": {
      "text/plain": [
       "4693"
      ]
     },
     "execution_count": 55,
     "metadata": {},
     "output_type": "execute_result"
    }
   ],
   "source": [
    "len(similarity_score)"
   ]
  },
  {
   "cell_type": "code",
   "execution_count": 56,
   "id": "4be90cdf-ae5b-4811-944a-dd14690b7ffc",
   "metadata": {},
   "outputs": [],
   "source": [
    "# sorting the movies based on their similarity score\n",
    "\n",
    "sorted_similar_movies = sorted(similarity_score, key = lambda x:x[1], reverse=True)\n",
    "#print(sorted_similar_movies)"
   ]
  },
  {
   "cell_type": "markdown",
   "id": "95cde355-0ba0-4f64-a4fe-726105a6160c",
   "metadata": {},
   "source": [
    "## Print the name similar movies based on the index"
   ]
  },
  {
   "cell_type": "code",
   "execution_count": 57,
   "id": "bb39ff31-f246-43cf-9314-3c21c67a00f4",
   "metadata": {},
   "outputs": [
    {
     "name": "stdout",
     "output_type": "stream",
     "text": [
      "Movies suggested for you : \n",
      "\n",
      "1 . Avatar\n",
      "2 . Superman Returns\n",
      "3 . Man of Steel\n",
      "4 . X-Men: Days of Future Past\n",
      "5 . Jupiter Ascending\n",
      "6 . The Wolverine\n",
      "7 . Superman\n",
      "8 . Superman II\n",
      "9 . Beastmaster 2: Through the Portal of Time\n"
     ]
    }
   ],
   "source": [
    "print('Movies suggested for you : \\n')\n",
    "i = 1\n",
    "for movie in sorted_similar_movies:\n",
    "    index = movie[0]\n",
    "    title_from_index = df[df.index == index]['title'].values[0]\n",
    "    if(i<10):\n",
    "        print(i,'.', title_from_index)\n",
    "        i = i+1"
   ]
  },
  {
   "cell_type": "markdown",
   "id": "4a9b6e6c-9d4c-4f3f-94d5-05859bb69590",
   "metadata": {},
   "source": [
    "## saving the models"
   ]
  },
  {
   "cell_type": "code",
   "execution_count": 58,
   "id": "dd8547f3-9a20-4103-a95e-57dd75ade7c8",
   "metadata": {},
   "outputs": [],
   "source": [
    "import pickle"
   ]
  },
  {
   "cell_type": "code",
   "execution_count": 61,
   "id": "9071c635-d561-4ca4-9962-343606c40298",
   "metadata": {},
   "outputs": [],
   "source": [
    "import pickle\n",
    "\n",
    "with open('vectorizer.pkl', 'wb') as f:\n",
    "    pickle.dump(vectorizer,f)\n",
    "\n",
    "with open('feature_vector.pkl', 'wb') as f:\n",
    "    pickle.dump(feature_vector,f)\n",
    "\n",
    "#  list of movie titles\n",
    "with open('titles.pkl', 'wb') as f:\n",
    "    pickle.dump(list_titles, f)\n"
   ]
  },
  {
   "cell_type": "code",
   "execution_count": 59,
   "id": "2bb4add2-0768-4e93-90db-f30544e47578",
   "metadata": {},
   "outputs": [],
   "source": []
  },
  {
   "cell_type": "code",
   "execution_count": null,
   "id": "7f786268-243f-47df-8fda-f73c1eb014b5",
   "metadata": {},
   "outputs": [],
   "source": []
  }
 ],
 "metadata": {
  "kernelspec": {
   "display_name": "Python 3 (ipykernel)",
   "language": "python",
   "name": "python3"
  },
  "language_info": {
   "codemirror_mode": {
    "name": "ipython",
    "version": 3
   },
   "file_extension": ".py",
   "mimetype": "text/x-python",
   "name": "python",
   "nbconvert_exporter": "python",
   "pygments_lexer": "ipython3",
   "version": "3.11.1"
  }
 },
 "nbformat": 4,
 "nbformat_minor": 5
}
